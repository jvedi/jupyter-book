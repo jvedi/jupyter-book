%cd /content
!git clone -b dev https://github.com/camenduru/OpenVoice
%cd /content/OpenVoice

!apt -y install -qq aria2
!aria2c --console-log-level=error -c -x 16 -s 16 -k 1M https://huggingface.co/camenduru/OpenVoice/resolve/main/checkpoints_1226.zip -d /content -o checkpoints_1226.zip
!unzip /content/checkpoints_1226.zip

!pip install -q gradio==3.50.2 langid faster-whisper whisper-timestamped unidecode eng-to-ipa pypinyin cn2an

!python openvoice_app.py --share
